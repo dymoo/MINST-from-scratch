{
 "cells": [
  {
   "cell_type": "code",
   "execution_count": 6,
   "metadata": {
    "id": "F5rEk_zF_MSB"
   },
   "outputs": [],
   "source": [
    "import numpy as np\n",
    "import math\n",
    "from matplotlib import pyplot\n",
    "from keras.datasets import mnist\n",
    "from sklearn.preprocessing import minmax_scale"
   ]
  },
  {
   "cell_type": "code",
   "execution_count": 7,
   "metadata": {
    "colab": {
     "base_uri": "https://localhost:8080/",
     "height": 115
    },
    "id": "aHxs9l9mgKdO",
    "outputId": "8d6bdb0e-5c6b-42a6-d93f-0e71de630353"
   },
   "outputs": [
    {
     "data": {
      "image/png": "[encoded data removed]",
      "text/plain": [
       "<Figure size 432x288 with 1 Axes>"
      ]
     },
     "metadata": {
      "needs_background": "light"
     },
     "output_type": "display_data"
    }
   ],
   "source": [
    "(train_X, train_y), (test_X, test_y) = mnist.load_data()\n",
    "\n",
    "# Show example\n",
    "pyplot.subplot(330 + 1)\n",
    "pyplot.imshow(train_X[50], cmap=pyplot.get_cmap('gray'))\n",
    "pyplot.show()"
   ]
  },
  {
   "cell_type": "code",
   "execution_count": 8,
   "metadata": {
    "id": "qBuPqPtEDbux"
   },
   "outputs": [],
   "source": [
    "# Helper functions\n",
    "\n",
    "def relu(x):\n",
    "  return np.maximum(0, x)\n",
    "\n",
    "def calc_cost(result, expected):\n",
    "  print('---')\n",
    "  print(result)\n",
    "  print(expected)\n",
    "  print('---')"
   ]
  },
  {
   "cell_type": "code",
   "execution_count": 9,
   "metadata": {
    "id": "ceL827V__Uua"
   },
   "outputs": [],
   "source": [
    "class Layer:\n",
    "  def __init__(self, in_size, out_size, activation_function=\"relu\"):\n",
    "    self.in_size = in_size\n",
    "    self.out_size = out_size\n",
    "\n",
    "    self.weights = np.random.uniform(-1, 1, (self.in_size, self.out_size))\n",
    "    self.biases = np.random.uniform(-1, 1, (self.in_size, self.out_size))\n",
    "\n",
    "  def activate(self, input):\n",
    "    output = []\n",
    "\n",
    "    for output_index in range(self.out_size):\n",
    "      weights = self.weights[output_index]\n",
    "      biases = self.biases[output_index]\n",
    "      activation_value = 0\n",
    "\n",
    "      for input_index in range(self.in_size):\n",
    "        activation_value += ((input[input_index] * weights[output_index]) + biases[output_index])\n",
    "      \n",
    "      output.append(relu(activation_value))\n",
    "\n",
    "    return output\n"
   ]
  },
  {
   "cell_type": "code",
   "execution_count": 10,
   "metadata": {
    "id": "RLUte7MKFrme"
   },
   "outputs": [
    {
     "ename": "IndentationError",
     "evalue": "expected an indented block (<ipython-input-10-ac4e08737a45>, line 8)",
     "output_type": "error",
     "traceback": [
      "\u001b[0;36m  File \u001b[0;32m\"<ipython-input-10-ac4e08737a45>\"\u001b[0;36m, line \u001b[0;32m8\u001b[0m\n\u001b[0;31m    def predict(self, input):\u001b[0m\n\u001b[0m    ^\u001b[0m\n\u001b[0;31mIndentationError\u001b[0m\u001b[0;31m:\u001b[0m expected an indented block\n"
     ]
    }
   ],
   "source": [
    "class Network:\n",
    "  def __init__(self, layers):\n",
    "    self.layers = layers\n",
    "\n",
    "  def fit(self, x, y):\n",
    "\n",
    "\n",
    "  def predict(self, input):\n"
   ]
  },
  {
   "cell_type": "code",
   "execution_count": 11,
   "metadata": {
    "colab": {
     "base_uri": "https://localhost:8080/",
     "height": 1000
    },
    "id": "eSVcCiAgBNNU",
    "outputId": "c7158687-e7d0-443f-ffaf-e8fed4b76a52"
   },
   "outputs": [
    {
     "ename": "NameError",
     "evalue": "name 'Network' is not defined",
     "output_type": "error",
     "traceback": [
      "\u001b[0;31m---------------------------------------------------------------------------\u001b[0m",
      "\u001b[0;31mNameError\u001b[0m                                 Traceback (most recent call last)",
      "\u001b[0;32m<ipython-input-11-ca2314fca2c3>\u001b[0m in \u001b[0;36m<module>\u001b[0;34m\u001b[0m\n\u001b[1;32m      1\u001b[0m \u001b[0;31m# Execute the network\u001b[0m\u001b[0;34m\u001b[0m\u001b[0;34m\u001b[0m\u001b[0;34m\u001b[0m\u001b[0m\n\u001b[1;32m      2\u001b[0m \u001b[0;34m\u001b[0m\u001b[0m\n\u001b[0;32m----> 3\u001b[0;31m my_net = Network([\n\u001b[0m\u001b[1;32m      4\u001b[0m   \u001b[0mLayer\u001b[0m\u001b[0;34m(\u001b[0m\u001b[0min_size\u001b[0m\u001b[0;34m,\u001b[0m \u001b[0;36m16\u001b[0m\u001b[0;34m)\u001b[0m\u001b[0;34m,\u001b[0m\u001b[0;34m\u001b[0m\u001b[0;34m\u001b[0m\u001b[0m\n\u001b[1;32m      5\u001b[0m   \u001b[0mLayer\u001b[0m\u001b[0;34m(\u001b[0m\u001b[0;36m16\u001b[0m\u001b[0;34m,\u001b[0m \u001b[0;36m16\u001b[0m\u001b[0;34m)\u001b[0m\u001b[0;34m,\u001b[0m\u001b[0;34m\u001b[0m\u001b[0;34m\u001b[0m\u001b[0m\n",
      "\u001b[0;31mNameError\u001b[0m: name 'Network' is not defined"
     ]
    }
   ],
   "source": [
    "# Execute the network\n",
    "\n",
    "my_net = Network([\n",
    "  Layer(in_size, 16),\n",
    "  Layer(16, 16),\n",
    "  Layer(16, out_size)\n",
    "])\n",
    "\n",
    "for item_index in range(100):\n",
    "  # Take in train x and minmax for 0.0 to 1.0\n",
    "  curr_train_x = np.array(train_X[item_index]).flatten()\n",
    "  curr_train_x = minmax_scale(curr_train_x, feature_range=(0,1), axis=0)\n",
    "  \n",
    "  # Neuron storage\n",
    "  neurons = [ curr_train_x ]\n",
    "\n",
    "  # Turn train y into same shape as output\n",
    "  curr_train_y = [0.0] * 10\n",
    "  curr_train_y[train_y[item_index] - 1] = 1.0\n",
    "\n",
    "  # Apply layers of the network to data\n",
    "  for layer_index in range(len(network)):\n",
    "    curr_layer = network[layer_index]\n",
    "    curr_neuron = neurons[layer_index]\n",
    "\n",
    "    activation_result = curr_layer.activate(curr_neuron)\n",
    "    calc_cost(activation_result, curr_train_y)\n",
    "    \n",
    "    neurons.append( activation_result )\n",
    "\n",
    "print('complete!')\n",
    "print( neurons[-1] )\n"
   ]
  },
  {
   "cell_type": "code",
   "execution_count": null,
   "metadata": {},
   "outputs": [],
   "source": []
  },
  {
   "cell_type": "code",
   "execution_count": null,
   "metadata": {},
   "outputs": [],
   "source": []
  },
  {
   "cell_type": "code",
   "execution_count": null,
   "metadata": {},
   "outputs": [],
   "source": []
  },
  {
   "cell_type": "code",
   "execution_count": null,
   "metadata": {},
   "outputs": [],
   "source": []
  },
  {
   "cell_type": "code",
   "execution_count": null,
   "metadata": {},
   "outputs": [],
   "source": []
  },
  {
   "cell_type": "code",
   "execution_count": null,
   "metadata": {},
   "outputs": [],
   "source": []
  }
 ],
 "metadata": {
  "colab": {
   "name": "MNIST from scratch",
   "provenance": []
  },
  "kernelspec": {
   "display_name": "Python 3",
   "language": "python",
   "name": "python3"
  },
  "language_info": {
   "codemirror_mode": {
    "name": "ipython",
    "version": 3
   },
   "file_extension": ".py",
   "mimetype": "text/x-python",
   "name": "python",
   "nbconvert_exporter": "python",
   "pygments_lexer": "ipython3",
   "version": "3.8.5"
  }
 },
 "nbformat": 4,
 "nbformat_minor": 1
}
